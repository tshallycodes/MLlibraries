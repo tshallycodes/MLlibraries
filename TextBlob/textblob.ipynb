{
 "cells": [
  {
   "cell_type": "code",
   "execution_count": null,
   "metadata": {},
   "outputs": [],
   "source": [
    "#Installing TextBlob\n",
    "from textblob import TextBlob\n",
    "import nltk\n",
    "nltk.download('punkt')"
   ]
  },
  {
   "cell_type": "code",
   "execution_count": null,
   "metadata": {},
   "outputs": [],
   "source": [
    "\n",
    "#Parsing a File with TextBlob\n",
    "with open(\"content/birds_of_austraila.txt\") as f:\n",
    "    text = f.read()\n",
    "\n",
    "blob = TextBlob(text)\n",
    "\n",
    "#Sentences in the file\n",
    "sentence_list = blob.sentences\n",
    "\n",
    "#Finding tagged words\n",
    "tagged_words = blob.tags"
   ]
  },
  {
   "cell_type": "code",
   "execution_count": null,
   "metadata": {},
   "outputs": [],
   "source": [
    "tagged_words[100]"
   ]
  }
 ],
 "metadata": {
  "kernelspec": {
   "display_name": "Python 3",
   "language": "python",
   "name": "python3"
  },
  "language_info": {
   "codemirror_mode": {
    "name": "ipython",
    "version": 3
   },
   "file_extension": ".py",
   "mimetype": "text/x-python",
   "name": "python",
   "nbconvert_exporter": "python",
   "pygments_lexer": "ipython3",
   "version": "3.12.4"
  }
 },
 "nbformat": 4,
 "nbformat_minor": 2
}
