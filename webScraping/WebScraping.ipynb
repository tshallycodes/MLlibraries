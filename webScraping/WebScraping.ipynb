{
 "cells": [
  {
   "cell_type": "code",
   "execution_count": 13,
   "metadata": {},
   "outputs": [],
   "source": [
    "import requests  # Import requests to fetch web pages\n",
    "from bs4 import BeautifulSoup as bs  # Import BeautifulSoup for parsing HTML\n",
    "import re  # Import regex for pattern matching\n",
    "import pandas as pd  # Import pandas for data handling"
   ]
  },
  {
   "cell_type": "markdown",
   "metadata": {},
   "source": [
    "# Extract and Store Function Names & Usage\n",
    "<br>\n",
    "From the Python Documentation - Random Functions webpage: https://docs.python.org/3/library/random.html\n"
   ]
  },
  {
   "cell_type": "code",
   "execution_count": 18,
   "metadata": {},
   "outputs": [
    {
     "name": "stdout",
     "output_type": "stream",
     "text": [
      "List of function names: ['random.seed', 'random.getstate', 'random.setstate', 'random.randbytes', 'random.randrange']\n",
      "\n",
      "Function description: Initialize the random number generator. If a is omitted or None, the current system time is used.  If randomness sources are provided by the operating system, they are used instead of the system time (see the os.urandom() function for details on availability). If a is an int, it is used directly. With version 2 (the default), a str, bytes, or bytearray object gets converted to an int and all of its bits are used. With version 1 (provided for reproducing random sequences from older versions of Python), the algorithm for str and bytes generates a narrower range of seeds.  Changed in version 3.2: Moved to the version 2 scheme which uses all of the bits in a string seed.   Changed in version 3.11: The seed must be one of the following types: None, int, float, str, bytes, or bytearray.\n",
      "\n",
      "Number of function names: 31\n",
      "Number of function descriptions: 31\n"
     ]
    }
   ],
   "source": [
    "# Load HTML code from a URL\n",
    "page = requests.get(\"https://docs.python.org/3/library/random.html\")  # Fetch webpage content\n",
    "soup = bs(page.text, \"html.parser\")  # Parse the HTML content correctly\n",
    "\n",
    "# Find all function names in the HTML page\n",
    "names = soup.body.find_all('dt')  # Locate all <dt> tags, which contain function names\n",
    "function_names = re.findall(r'id=\"random.\\w+', str(names))  # Extract function names using regex\n",
    "function_names = [item[4:] for item in function_names]  # Remove 'id=' prefix from names\n",
    "\n",
    "# Find all function descriptions in the HTML page\n",
    "description = soup.body.find_all('dd')  # Locate all <dd> tags, which contain descriptions\n",
    "function_usage = []  # Initialize an empty list to store function descriptions\n",
    "\n",
    "for item in description:\n",
    "    item = item.text.strip()  # Extract text content from the tag and remove extra spaces\n",
    "    item = item.replace('\\n', ' ')  # Remove newline characters for cleaner text\n",
    "    function_usage.append(item)  # Append cleaned description to the list\n",
    "    \n",
    "min_length = min(len(function_names), len(function_usage))\n",
    "function_names, function_usage = function_names[:min_length], function_usage[:min_length]\n",
    "\n",
    "# Print sample results\n",
    "print('List of function names:', function_names[:5])  # Display first 5 function names\n",
    "print('\\nFunction description:', function_usage[0] if function_usage else \"No description found\")  # Display first function description safely\n",
    "print('\\nNumber of function names:', len(function_names))  # Count function names\n",
    "print('Number of function descriptions:', len(function_usage))  # Count descriptions\n",
    "\n",
    "\n",
    "# Ensure both lists have the same length\n",
    "\n",
    "\n"
   ]
  },
  {
   "cell_type": "markdown",
   "metadata": {},
   "source": [
    "# Store Data inside a DataFrame\n",
    "<br>\n",
    "After ensuring the lenghts of both lists match"
   ]
  },
  {
   "cell_type": "code",
   "execution_count": 21,
   "metadata": {},
   "outputs": [
    {
     "data": {
      "text/html": [
       "<div>\n",
       "<style scoped>\n",
       "    .dataframe tbody tr th:only-of-type {\n",
       "        vertical-align: middle;\n",
       "    }\n",
       "\n",
       "    .dataframe tbody tr th {\n",
       "        vertical-align: top;\n",
       "    }\n",
       "\n",
       "    .dataframe thead th {\n",
       "        text-align: right;\n",
       "    }\n",
       "</style>\n",
       "<table border=\"1\" class=\"dataframe\">\n",
       "  <thead>\n",
       "    <tr style=\"text-align: right;\">\n",
       "      <th></th>\n",
       "      <th>function name</th>\n",
       "      <th>function usage</th>\n",
       "    </tr>\n",
       "  </thead>\n",
       "  <tbody>\n",
       "    <tr>\n",
       "      <th>1</th>\n",
       "      <td>random.seed</td>\n",
       "      <td>Initialize the random number generator. If a i...</td>\n",
       "    </tr>\n",
       "    <tr>\n",
       "      <th>2</th>\n",
       "      <td>random.getstate</td>\n",
       "      <td>Return an object capturing the current interna...</td>\n",
       "    </tr>\n",
       "    <tr>\n",
       "      <th>3</th>\n",
       "      <td>random.setstate</td>\n",
       "      <td>state should have been obtained from a previou...</td>\n",
       "    </tr>\n",
       "    <tr>\n",
       "      <th>4</th>\n",
       "      <td>random.randbytes</td>\n",
       "      <td>Generate n random bytes. This method should no...</td>\n",
       "    </tr>\n",
       "    <tr>\n",
       "      <th>5</th>\n",
       "      <td>random.randrange</td>\n",
       "      <td>Return a randomly selected element from range(...</td>\n",
       "    </tr>\n",
       "  </tbody>\n",
       "</table>\n",
       "</div>"
      ],
      "text/plain": [
       "      function name                                     function usage\n",
       "1       random.seed  Initialize the random number generator. If a i...\n",
       "2   random.getstate  Return an object capturing the current interna...\n",
       "3   random.setstate  state should have been obtained from a previou...\n",
       "4  random.randbytes  Generate n random bytes. This method should no...\n",
       "5  random.randrange  Return a randomly selected element from range(..."
      ]
     },
     "execution_count": 21,
     "metadata": {},
     "output_type": "execute_result"
    }
   ],
   "source": [
    "#create a dataframe\n",
    "data = pd.DataFrame({'function name': function_names, 'function usage': function_usage})\n",
    "data.index = range(1, len(data) + 1)  # Start index from 1 instead of 0\n",
    "data.head() # Display the first few rows of the dataframe"
   ]
  },
  {
   "cell_type": "code",
   "execution_count": 20,
   "metadata": {},
   "outputs": [],
   "source": [
    "#Target specific attributes\n",
    "example = soup.body.find_all('div', attrs={'id': 'bookkeeping-functions'})  # Locate the <div> tag with id 'bookkeeping-functions'"
   ]
  },
  {
   "cell_type": "markdown",
   "metadata": {},
   "source": [
    "# Export Data into a csv file\n",
    "<br>\n",
    "The file will be saved in the same directory as the notebook"
   ]
  },
  {
   "cell_type": "code",
   "execution_count": 22,
   "metadata": {},
   "outputs": [],
   "source": [
    "# Save data as a CSV file\n",
    "data.to_csv('my_file.csv')"
   ]
  }
 ],
 "metadata": {
  "kernelspec": {
   "display_name": "Python 3",
   "language": "python",
   "name": "python3"
  },
  "language_info": {
   "codemirror_mode": {
    "name": "ipython",
    "version": 3
   },
   "file_extension": ".py",
   "mimetype": "text/x-python",
   "name": "python",
   "nbconvert_exporter": "python",
   "pygments_lexer": "ipython3",
   "version": "3.13.1"
  }
 },
 "nbformat": 4,
 "nbformat_minor": 2
}
